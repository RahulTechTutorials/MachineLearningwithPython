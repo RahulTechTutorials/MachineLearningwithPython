{
 "cells": [
  {
   "cell_type": "code",
   "execution_count": 88,
   "metadata": {},
   "outputs": [
    {
     "name": "stdout",
     "output_type": "stream",
     "text": [
      "---Confusion Matrix---\n",
      "[[94 13]\n",
      " [19 28]]\n",
      "---F1 Score---\n",
      "0.6363636363636364\n",
      "---Accuracy Score---\n",
      "0.7922077922077922\n"
     ]
    }
   ],
   "source": [
    "import os \n",
    "import pandas as pd\n",
    "import numpy as np\n",
    "from sklearn.model_selection import train_test_split\n",
    "from sklearn.preprocessing import StandardScaler\n",
    "from sklearn.neighbors import KNeighborsClassifier\n",
    "from sklearn.metrics import confusion_matrix\n",
    "from sklearn.metrics import f1_score\n",
    "from sklearn.metrics import accuracy_score\n",
    "import math\n",
    "\n",
    "\n",
    "os.getcwd()\n",
    "os.chdir('/Users/rahuljain/Desktop/Python/MachineLearningwithPython/KNNAlgorithm')\n",
    "os.listdir()\n",
    "dataset = pd.read_csv('diabetescsv.zip')\n",
    "dataset.head()\n",
    "\n",
    "#######Steps for feature engineering#######\n",
    "##describe will tell you which of the columns have min values as zeros\n",
    "dataset.describe()\n",
    "##below code will help you understand if there are any missing values\n",
    "dataset.isnull().values.any()\n",
    "remove_zeros = ['Pregnancies','Glucose','BloodPressure','SkinThickness','Insulin','BMI']\n",
    "for column in remove_zeros:\n",
    "    dataset[column] = dataset[column].replace(0,np.NaN)\n",
    "    mean = dataset[column].mean(skipna=True)\n",
    "    dataset[column] = dataset[column].replace(np.NaN,mean)\n",
    "###By checking again, all the columns must have non zero min values\n",
    "dataset.describe()\n",
    "\n",
    "####Splitting the data into train and test#####\n",
    "##Picking your X and y columns\n",
    "X = dataset.iloc[:,0:8]\n",
    "y = dataset.iloc[:,8]\n",
    "##help(train_test_split)\n",
    "##splitting the data into test and train\n",
    "X_train,X_test,y_train,y_test = train_test_split(X,y,random_state = 0, test_size=0.2)\n",
    "##X_test.info(),X_train.info()\n",
    "\n",
    "#######Further Steps for feature engineering#######\n",
    "##StandardScaler standadizes all the values of all the columns\n",
    "scaledX =  StandardScaler()\n",
    "X_train = scaledX.fit_transform(X_train)\n",
    "X_test  = scaledX.transform(X_test) \n",
    "X_test\n",
    "\n",
    "###math.sqrt(len(y_test))-- gives 12, we convert it to 11 for better voting results\n",
    "\n",
    "####Defining the model####\n",
    "##help(KNeighborsClassifier)\n",
    "classifier = KNeighborsClassifier(n_neighbors=11,p=2,metric='euclidean')\n",
    "\n",
    "###Fit Model\n",
    "classifier.fit(X_train,y_train)\n",
    "\n",
    "##Make predictions \n",
    "y_pred = classifier.predict(X_test)\n",
    "y_pred\n",
    "\n",
    "###Capturing results ####\n",
    "cm = confusion_matrix(y_test,y_pred)\n",
    "f1 = f1_score(y_test,y_pred)\n",
    "score = accuracy_score(y_test,y_pred)\n",
    "\n",
    "print('---Confusion Matrix---',end='\\n')\n",
    "print(cm)\n",
    "print('---F1 Score---',end='\\n')\n",
    "print(f1)\n",
    "print('---Accuracy Score---',end='\\n')\n",
    "print(score)\n"
   ]
  },
  {
   "cell_type": "code",
   "execution_count": null,
   "metadata": {
    "collapsed": true
   },
   "outputs": [],
   "source": []
  }
 ],
 "metadata": {
  "kernelspec": {
   "display_name": "Python 3",
   "language": "python",
   "name": "python3"
  },
  "language_info": {
   "codemirror_mode": {
    "name": "ipython",
    "version": 3
   },
   "file_extension": ".py",
   "mimetype": "text/x-python",
   "name": "python",
   "nbconvert_exporter": "python",
   "pygments_lexer": "ipython3",
   "version": "3.6.8"
  }
 },
 "nbformat": 4,
 "nbformat_minor": 2
}
