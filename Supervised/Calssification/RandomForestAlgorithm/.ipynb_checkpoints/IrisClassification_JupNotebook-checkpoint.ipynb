{
 "cells": [
  {
   "cell_type": "code",
   "execution_count": 170,
   "metadata": {},
   "outputs": [
    {
     "name": "stdout",
     "output_type": "stream",
     "text": [
      "Confusion Matrix \n",
      " Predicted Species  setosa  versicolor  virginica\n",
      "Actual Species                                  \n",
      "setosa                 13           0          0\n",
      "versicolor              0           5          2\n",
      "virginica               0           0         12 \n",
      "\n",
      " F1 Score:  0.9375 \n",
      "\n",
      " Accuracy Score \n",
      " 0.9375 \n",
      "\n",
      "Precision_score \n",
      " 0.9375 \n",
      "\n",
      " Recall_score:  0.9375 \n",
      "\n"
     ]
    },
    {
     "name": "stderr",
     "output_type": "stream",
     "text": [
      "/Users/rahuljain/anaconda3/lib/python3.6/site-packages/sklearn/metrics/classification.py:1045: UserWarning: Note that pos_label (set to 'positive') is ignored when average != 'binary' (got 'micro'). You may use labels=[pos_label] to specify a single positive class.\n",
      "  % (pos_label, average), UserWarning)\n"
     ]
    }
   ],
   "source": [
    "import pandas as pd\n",
    "import numpy as np\n",
    "from sklearn.datasets import load_iris\n",
    "from sklearn.ensemble import RandomForestClassifier\n",
    "from sklearn.metrics import accuracy_score\n",
    "from sklearn.metrics import f1_score\n",
    "from sklearn.metrics import precision_score\n",
    "from sklearn.metrics import recall_score\n",
    "###setting seed as 0 to have the same random allocation everytime###\n",
    "np.random.seed(0)\n",
    "\n",
    "iris = load_iris()\n",
    "##type(iris)\n",
    "iris.data\n",
    "iris.feature_names\n",
    "iris.target\n",
    "iris.target_names\n",
    "\n",
    "##loading the data in the dataframe\n",
    "df = pd.DataFrame(iris.data,columns = iris.feature_names)\n",
    "df\n",
    "iris.target\n",
    "iris.target_names\n",
    "\n",
    "####Importing the species (dependent variable) as value. Please note the target is factorized hence need to import from codes and target names\n",
    "df['species'] = pd.Categorical.from_codes(iris.target,iris.target_names)\n",
    "df.head()\n",
    "\n",
    "##spliting the data into train and test\n",
    "df['is_train'] = np.random.uniform(0,1,len(df)) <= 0.75\n",
    "df\n",
    "\n",
    "train, test = df[df['is_train'] == True],df[df['is_train'] == False]\n",
    "train.count(),test.count()\n",
    "\n",
    "###Factorize our target y\n",
    "type(pd.factorize(train['species']))\n",
    "y  = pd.factorize(train['species'])[0]\n",
    "type(y)\n",
    "y\n",
    "\n",
    "##Prediction by Model\n",
    "##help(RandomForestClassifier)\n",
    "clf = RandomForestClassifier(n_estimators=100,criterion='gini',max_features='auto',n_jobs=2,random_state=0)\n",
    "#help(clf.fit)\n",
    "train[iris.feature_names]\n",
    "y\n",
    "\n",
    "y_test = test['species']\n",
    "clf.fit(train[iris.feature_names],y)\n",
    "y_pred = clf.predict(test[iris.feature_names])\n",
    "##clf.predict_proba(test[iris.feature_names])\n",
    "##y_test = test['species']\n",
    "y_pred\n",
    "y_pred_names = iris.target_names[y_pred]\n",
    "type(y_pred_names)\n",
    "y_pred_names.shape\n",
    "y_test.head(10),y_pred_names[0:10]\n",
    "\n",
    "len(y_test),len(y_pred)\n",
    "####Analyzing the results in a cross tab format\n",
    "cm = pd.crosstab(y_test,y_pred_names,rownames= ['Actual Species'],colnames=['Predicted Species'])\n",
    "\n",
    "accuracy_score = accuracy_score(y_pred_names,y_test)\n",
    "#help(f1_score)\n",
    "f1_score = f1_score(y_test,y_pred_names,average='micro')\n",
    "precision_score = precision_score(y_test, y_pred_names, pos_label='positive',average='micro')\n",
    "recall_score = recall_score(y_test, y_pred_names, pos_label='positive',average='micro')\n",
    "\n",
    "####Displaying the results ####\n",
    "print('Confusion Matrix','\\n',cm,'\\n\\n','F1 Score: ',f1_score,'\\n\\n','Accuracy Score','\\n',accuracy_score,'\\n')\n",
    "print('Precision_score','\\n',precision_score,'\\n\\n','Recall_score: ',recall_score,'\\n')"
   ]
  },
  {
   "cell_type": "code",
   "execution_count": 74,
   "metadata": {},
   "outputs": [
    {
     "data": {
      "text/plain": [
       "array([[[1.6e-322, 1.6e-322, 1.6e-322],\n",
       "        [1.6e-322, 1.6e-322, 1.6e-322]]])"
      ]
     },
     "execution_count": 74,
     "metadata": {},
     "output_type": "execute_result"
    }
   ],
   "source": []
  },
  {
   "cell_type": "code",
   "execution_count": null,
   "metadata": {
    "collapsed": true
   },
   "outputs": [],
   "source": []
  }
 ],
 "metadata": {
  "kernelspec": {
   "display_name": "Python 3",
   "language": "python",
   "name": "python3"
  },
  "language_info": {
   "codemirror_mode": {
    "name": "ipython",
    "version": 3
   },
   "file_extension": ".py",
   "mimetype": "text/x-python",
   "name": "python",
   "nbconvert_exporter": "python",
   "pygments_lexer": "ipython3",
   "version": "3.6.8"
  }
 },
 "nbformat": 4,
 "nbformat_minor": 2
}
