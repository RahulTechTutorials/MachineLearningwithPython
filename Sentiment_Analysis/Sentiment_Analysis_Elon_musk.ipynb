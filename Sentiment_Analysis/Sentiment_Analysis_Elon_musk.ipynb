{
 "cells": [
  {
   "cell_type": "code",
   "execution_count": 1,
   "metadata": {},
   "outputs": [],
   "source": [
    "import tweepy\n",
    "from tweepy import OAuthHandler\n",
    "from tqdm import tqdm\n",
    "import numpy as np\n",
    "import json\n",
    "import pandas as pd\n",
    "import seaborn as sns\n",
    "import matplotlib.pyplot as plt\n",
    "%matplotlib inline\n",
    "import os\n",
    "import re as re\n",
    "import nltk\n",
    "from nltk.corpus import stopwords\n",
    "stop_words = set(stopwords.words('english'))\n",
    "from textblob import TextBlob\n"
   ]
  },
  {
   "cell_type": "code",
   "execution_count": 2,
   "metadata": {},
   "outputs": [],
   "source": [
    "os.getcwd()\n",
    "from twitter_creds import *"
   ]
  },
  {
   "cell_type": "code",
   "execution_count": 3,
   "metadata": {},
   "outputs": [
    {
     "data": {
      "text/plain": [
       "('xbABWuH6Eirs2VgCGsIHCIZMT',\n",
       " '6EYvnogIkVSfdVlZMV3uYnrr5Y2Mhog4jciDdBWpTPf1q3dLbP',\n",
       " '81017168-EsyZHexpVf6LxkzCU81U2Yz3cPJOyZuaOdavxQmaL',\n",
       " '4WIIk8fiZF88FLRmprz6nnr1Hu6TvwbgiVoFMS7GJjrnf')"
      ]
     },
     "execution_count": 3,
     "metadata": {},
     "output_type": "execute_result"
    }
   ],
   "source": [
    "CONSUMER_KEY, CONSUMER_SECRET ,ACCESS_TOKEN ,ACCESS_TOKEN_SECRET"
   ]
  },
  {
   "cell_type": "code",
   "execution_count": 4,
   "metadata": {},
   "outputs": [],
   "source": [
    "def OAuthVerifier():\n",
    "    '''\n",
    "    This method is used to authenticate the user and create an object of the API class\n",
    "    '''\n",
    "    authentication = tweepy.OAuthHandler(CONSUMER_KEY,CONSUMER_SECRET)\n",
    "    authentication.set_access_token(ACCESS_TOKEN,ACCESS_TOKEN_SECRET)\n",
    "    api = tweepy.API(authentication)\n",
    "    \n",
    "    return api"
   ]
  },
  {
   "cell_type": "code",
   "execution_count": 5,
   "metadata": {},
   "outputs": [],
   "source": [
    "api = OAuthVerifier()\n",
    "username = 'elonmusk'"
   ]
  },
  {
   "cell_type": "code",
   "execution_count": 6,
   "metadata": {
    "collapsed": true
   },
   "outputs": [],
   "source": [
    "def getUserStatistics(user):\n",
    "    '''\n",
    "    This program is used to fetch the User information\n",
    "    '''\n",
    "    print('\\nName : ', user.name)\n",
    "    print('Screen Name : ', user.screen_name)\n",
    "    print('ID : ', user.id)\n",
    "    print('Account Creation Date and Time : ', user.created_at)\n",
    "    print('Description : ', user.description)\n",
    "    print('No. of followers : ', user.followers_count)\n",
    "    print('No. of friends : ', user.friends_count)\n",
    "    print('No. of favourite tweets  : ', user.favourites_count)\n",
    "    print('No. of posted tweets : ', user.statuses_count)\n",
    "    print('Associated URL : ', user.url)"
   ]
  },
  {
   "cell_type": "code",
   "execution_count": 7,
   "metadata": {},
   "outputs": [
    {
     "name": "stdout",
     "output_type": "stream",
     "text": [
      "\n",
      "Name :  Rahul Jain\n",
      "Screen Name :  rahulxjain\n",
      "ID :  81017168\n",
      "Account Creation Date and Time :  2009-10-09 03:29:56\n",
      "Description :  \n",
      "No. of followers :  39\n",
      "No. of friends :  72\n",
      "No. of favourite tweets  :  2\n",
      "No. of posted tweets :  15\n",
      "Associated URL :  None\n"
     ]
    }
   ],
   "source": [
    "user = api.me()\n",
    "getUserStatistics(user)"
   ]
  },
  {
   "cell_type": "code",
   "execution_count": 8,
   "metadata": {
    "collapsed": true
   },
   "outputs": [],
   "source": [
    "tweets = tweepy.Cursor(api.user_timeline, screen_name = username, tweet_mode='extended').items()"
   ]
  },
  {
   "cell_type": "code",
   "execution_count": 9,
   "metadata": {},
   "outputs": [
    {
     "data": {
      "text/plain": [
       "tweepy.cursor.ItemIterator"
      ]
     },
     "execution_count": 9,
     "metadata": {},
     "output_type": "execute_result"
    }
   ],
   "source": [
    "type(tweets)"
   ]
  },
  {
   "cell_type": "code",
   "execution_count": 10,
   "metadata": {},
   "outputs": [
    {
     "name": "stderr",
     "output_type": "stream",
     "text": [
      "3215it [01:12, 44.14it/s]\n"
     ]
    }
   ],
   "source": [
    "##creating a disctionary object having various fields \n",
    "tweet_dict = []\n",
    "\n",
    "for t in tqdm(tweets):\n",
    "    dic = {}\n",
    "    dic['created_at'] = t.created_at\n",
    "    dic['favorite_count'] = t.favorite_count\n",
    "    dic['retweet_count'] = t.retweet_count\n",
    "    dic['full_text'] = t.full_text\n",
    "    dic['screen_name'] = t.user.screen_name\n",
    "    tweet_dict.append(dic)"
   ]
  },
  {
   "cell_type": "code",
   "execution_count": 11,
   "metadata": {},
   "outputs": [
    {
     "data": {
      "text/plain": [
       "3215"
      ]
     },
     "execution_count": 11,
     "metadata": {},
     "output_type": "execute_result"
    }
   ],
   "source": [
    "len(tweet_dict)"
   ]
  },
  {
   "cell_type": "code",
   "execution_count": 12,
   "metadata": {},
   "outputs": [
    {
     "data": {
      "text/plain": [
       "{'created_at': datetime.datetime(2019, 4, 1, 1, 34, 42),\n",
       " 'favorite_count': 45539,\n",
       " 'full_text': 'Making The Onion articles real …\\nhttps://t.co/O7855d9BWu',\n",
       " 'retweet_count': 5567,\n",
       " 'screen_name': 'elonmusk'}"
      ]
     },
     "execution_count": 12,
     "metadata": {},
     "output_type": "execute_result"
    }
   ],
   "source": [
    "tweet_dict[5]"
   ]
  },
  {
   "cell_type": "markdown",
   "metadata": {},
   "source": [
    "# Lets convert the dict list into pandas dataframe"
   ]
  },
  {
   "cell_type": "code",
   "execution_count": 13,
   "metadata": {},
   "outputs": [],
   "source": [
    "elon_tweet = pd.DataFrame.from_dict(tweet_dict)"
   ]
  },
  {
   "cell_type": "code",
   "execution_count": 14,
   "metadata": {},
   "outputs": [
    {
     "data": {
      "text/plain": [
       "3215"
      ]
     },
     "execution_count": 14,
     "metadata": {},
     "output_type": "execute_result"
    }
   ],
   "source": [
    "len(elon_tweet)"
   ]
  },
  {
   "cell_type": "code",
   "execution_count": 15,
   "metadata": {},
   "outputs": [
    {
     "data": {
      "text/html": [
       "<div>\n",
       "<style>\n",
       "    .dataframe thead tr:only-child th {\n",
       "        text-align: right;\n",
       "    }\n",
       "\n",
       "    .dataframe thead th {\n",
       "        text-align: left;\n",
       "    }\n",
       "\n",
       "    .dataframe tbody tr th {\n",
       "        vertical-align: top;\n",
       "    }\n",
       "</style>\n",
       "<table border=\"1\" class=\"dataframe\">\n",
       "  <thead>\n",
       "    <tr style=\"text-align: right;\">\n",
       "      <th></th>\n",
       "      <th>created_at</th>\n",
       "      <th>favorite_count</th>\n",
       "      <th>full_text</th>\n",
       "      <th>retweet_count</th>\n",
       "      <th>screen_name</th>\n",
       "    </tr>\n",
       "  </thead>\n",
       "  <tbody>\n",
       "    <tr>\n",
       "      <th>count</th>\n",
       "      <td>3215</td>\n",
       "      <td>3.215000e+03</td>\n",
       "      <td>3215</td>\n",
       "      <td>3215.000000</td>\n",
       "      <td>3215</td>\n",
       "    </tr>\n",
       "    <tr>\n",
       "      <th>unique</th>\n",
       "      <td>3212</td>\n",
       "      <td>NaN</td>\n",
       "      <td>3213</td>\n",
       "      <td>NaN</td>\n",
       "      <td>1</td>\n",
       "    </tr>\n",
       "    <tr>\n",
       "      <th>top</th>\n",
       "      <td>2018-05-23 22:58:07</td>\n",
       "      <td>NaN</td>\n",
       "      <td>@Erdayastronaut Yes</td>\n",
       "      <td>NaN</td>\n",
       "      <td>elonmusk</td>\n",
       "    </tr>\n",
       "    <tr>\n",
       "      <th>freq</th>\n",
       "      <td>2</td>\n",
       "      <td>NaN</td>\n",
       "      <td>2</td>\n",
       "      <td>NaN</td>\n",
       "      <td>3215</td>\n",
       "    </tr>\n",
       "    <tr>\n",
       "      <th>first</th>\n",
       "      <td>2018-02-21 13:06:19</td>\n",
       "      <td>NaN</td>\n",
       "      <td>NaN</td>\n",
       "      <td>NaN</td>\n",
       "      <td>NaN</td>\n",
       "    </tr>\n",
       "    <tr>\n",
       "      <th>last</th>\n",
       "      <td>2019-04-01 03:54:10</td>\n",
       "      <td>NaN</td>\n",
       "      <td>NaN</td>\n",
       "      <td>NaN</td>\n",
       "      <td>NaN</td>\n",
       "    </tr>\n",
       "    <tr>\n",
       "      <th>mean</th>\n",
       "      <td>NaN</td>\n",
       "      <td>1.697655e+04</td>\n",
       "      <td>NaN</td>\n",
       "      <td>2543.695801</td>\n",
       "      <td>NaN</td>\n",
       "    </tr>\n",
       "    <tr>\n",
       "      <th>std</th>\n",
       "      <td>NaN</td>\n",
       "      <td>5.005134e+04</td>\n",
       "      <td>NaN</td>\n",
       "      <td>11161.600001</td>\n",
       "      <td>NaN</td>\n",
       "    </tr>\n",
       "    <tr>\n",
       "      <th>min</th>\n",
       "      <td>NaN</td>\n",
       "      <td>0.000000e+00</td>\n",
       "      <td>NaN</td>\n",
       "      <td>4.000000</td>\n",
       "      <td>NaN</td>\n",
       "    </tr>\n",
       "    <tr>\n",
       "      <th>25%</th>\n",
       "      <td>NaN</td>\n",
       "      <td>7.280000e+02</td>\n",
       "      <td>NaN</td>\n",
       "      <td>48.000000</td>\n",
       "      <td>NaN</td>\n",
       "    </tr>\n",
       "    <tr>\n",
       "      <th>50%</th>\n",
       "      <td>NaN</td>\n",
       "      <td>1.802000e+03</td>\n",
       "      <td>NaN</td>\n",
       "      <td>220.000000</td>\n",
       "      <td>NaN</td>\n",
       "    </tr>\n",
       "    <tr>\n",
       "      <th>75%</th>\n",
       "      <td>NaN</td>\n",
       "      <td>1.247950e+04</td>\n",
       "      <td>NaN</td>\n",
       "      <td>1491.500000</td>\n",
       "      <td>NaN</td>\n",
       "    </tr>\n",
       "    <tr>\n",
       "      <th>max</th>\n",
       "      <td>NaN</td>\n",
       "      <td>1.204558e+06</td>\n",
       "      <td>NaN</td>\n",
       "      <td>388042.000000</td>\n",
       "      <td>NaN</td>\n",
       "    </tr>\n",
       "  </tbody>\n",
       "</table>\n",
       "</div>"
      ],
      "text/plain": [
       "                 created_at  favorite_count            full_text  \\\n",
       "count                  3215    3.215000e+03                 3215   \n",
       "unique                 3212             NaN                 3213   \n",
       "top     2018-05-23 22:58:07             NaN  @Erdayastronaut Yes   \n",
       "freq                      2             NaN                    2   \n",
       "first   2018-02-21 13:06:19             NaN                  NaN   \n",
       "last    2019-04-01 03:54:10             NaN                  NaN   \n",
       "mean                    NaN    1.697655e+04                  NaN   \n",
       "std                     NaN    5.005134e+04                  NaN   \n",
       "min                     NaN    0.000000e+00                  NaN   \n",
       "25%                     NaN    7.280000e+02                  NaN   \n",
       "50%                     NaN    1.802000e+03                  NaN   \n",
       "75%                     NaN    1.247950e+04                  NaN   \n",
       "max                     NaN    1.204558e+06                  NaN   \n",
       "\n",
       "        retweet_count screen_name  \n",
       "count     3215.000000        3215  \n",
       "unique            NaN           1  \n",
       "top               NaN    elonmusk  \n",
       "freq              NaN        3215  \n",
       "first             NaN         NaN  \n",
       "last              NaN         NaN  \n",
       "mean      2543.695801         NaN  \n",
       "std      11161.600001         NaN  \n",
       "min          4.000000         NaN  \n",
       "25%         48.000000         NaN  \n",
       "50%        220.000000         NaN  \n",
       "75%       1491.500000         NaN  \n",
       "max     388042.000000         NaN  "
      ]
     },
     "execution_count": 15,
     "metadata": {},
     "output_type": "execute_result"
    }
   ],
   "source": [
    "elon_tweet.describe(include='all')"
   ]
  },
  {
   "cell_type": "code",
   "execution_count": 16,
   "metadata": {},
   "outputs": [
    {
     "data": {
      "text/plain": [
       "created_at        datetime64[ns]\n",
       "favorite_count             int64\n",
       "full_text                 object\n",
       "retweet_count              int64\n",
       "screen_name               object\n",
       "dtype: object"
      ]
     },
     "execution_count": 16,
     "metadata": {},
     "output_type": "execute_result"
    }
   ],
   "source": [
    "elon_tweet.dtypes"
   ]
  },
  {
   "cell_type": "markdown",
   "metadata": {},
   "source": [
    "# Lets create a few new features as year , month, day of week etc."
   ]
  },
  {
   "cell_type": "code",
   "execution_count": 17,
   "metadata": {
    "collapsed": true
   },
   "outputs": [],
   "source": [
    "elon_tweet['created_year'] = elon_tweet['created_at'].dt.year"
   ]
  },
  {
   "cell_type": "code",
   "execution_count": 18,
   "metadata": {},
   "outputs": [
    {
     "data": {
      "text/plain": [
       "array([2019, 2018])"
      ]
     },
     "execution_count": 18,
     "metadata": {},
     "output_type": "execute_result"
    }
   ],
   "source": [
    "elon_tweet['created_year'].unique()"
   ]
  },
  {
   "cell_type": "code",
   "execution_count": 19,
   "metadata": {},
   "outputs": [
    {
     "data": {
      "text/plain": [
       "(Timestamp('2018-02-21 13:06:19'), Timestamp('2019-04-01 03:54:10'))"
      ]
     },
     "execution_count": 19,
     "metadata": {},
     "output_type": "execute_result"
    }
   ],
   "source": [
    "min(elon_tweet['created_at']),max(elon_tweet['created_at'])"
   ]
  },
  {
   "cell_type": "markdown",
   "metadata": {},
   "source": [
    "# The oldest tweet we have received is from 21st Feb, 2018 and the latest tweet is from today, 1st Apr 2019"
   ]
  },
  {
   "cell_type": "code",
   "execution_count": 20,
   "metadata": {},
   "outputs": [
    {
     "data": {
      "text/plain": [
       "'@ChrisRauhl @Tesla Yes'"
      ]
     },
     "execution_count": 20,
     "metadata": {},
     "output_type": "execute_result"
    }
   ],
   "source": [
    "##checking the latest tweet\n",
    "elon_tweet.iloc[0,2]"
   ]
  },
  {
   "cell_type": "code",
   "execution_count": 21,
   "metadata": {},
   "outputs": [
    {
     "data": {
      "text/html": [
       "<div>\n",
       "<style>\n",
       "    .dataframe thead tr:only-child th {\n",
       "        text-align: right;\n",
       "    }\n",
       "\n",
       "    .dataframe thead th {\n",
       "        text-align: left;\n",
       "    }\n",
       "\n",
       "    .dataframe tbody tr th {\n",
       "        vertical-align: top;\n",
       "    }\n",
       "</style>\n",
       "<table border=\"1\" class=\"dataframe\">\n",
       "  <thead>\n",
       "    <tr style=\"text-align: right;\">\n",
       "      <th></th>\n",
       "      <th>created_at</th>\n",
       "      <th>favorite_count</th>\n",
       "      <th>full_text</th>\n",
       "      <th>retweet_count</th>\n",
       "      <th>screen_name</th>\n",
       "      <th>created_year</th>\n",
       "    </tr>\n",
       "  </thead>\n",
       "  <tbody>\n",
       "    <tr>\n",
       "      <th>0</th>\n",
       "      <td>2019-04-01 03:54:10</td>\n",
       "      <td>484</td>\n",
       "      <td>@ChrisRauhl @Tesla Yes</td>\n",
       "      <td>12</td>\n",
       "      <td>elonmusk</td>\n",
       "      <td>2019</td>\n",
       "    </tr>\n",
       "    <tr>\n",
       "      <th>1</th>\n",
       "      <td>2019-04-01 03:24:23</td>\n",
       "      <td>699</td>\n",
       "      <td>@JONAHFORMAN Yes</td>\n",
       "      <td>31</td>\n",
       "      <td>elonmusk</td>\n",
       "      <td>2019</td>\n",
       "    </tr>\n",
       "    <tr>\n",
       "      <th>2</th>\n",
       "      <td>2019-04-01 02:21:37</td>\n",
       "      <td>2650</td>\n",
       "      <td>@carolineplz Seems fair</td>\n",
       "      <td>39</td>\n",
       "      <td>elonmusk</td>\n",
       "      <td>2019</td>\n",
       "    </tr>\n",
       "    <tr>\n",
       "      <th>3</th>\n",
       "      <td>2019-04-01 01:41:26</td>\n",
       "      <td>4794</td>\n",
       "      <td>@D_A_M_B Some people use their hair to express...</td>\n",
       "      <td>312</td>\n",
       "      <td>elonmusk</td>\n",
       "      <td>2019</td>\n",
       "    </tr>\n",
       "    <tr>\n",
       "      <th>4</th>\n",
       "      <td>2019-04-01 01:40:37</td>\n",
       "      <td>16978</td>\n",
       "      <td>.@TheOnion</td>\n",
       "      <td>369</td>\n",
       "      <td>elonmusk</td>\n",
       "      <td>2019</td>\n",
       "    </tr>\n",
       "  </tbody>\n",
       "</table>\n",
       "</div>"
      ],
      "text/plain": [
       "           created_at  favorite_count  \\\n",
       "0 2019-04-01 03:54:10             484   \n",
       "1 2019-04-01 03:24:23             699   \n",
       "2 2019-04-01 02:21:37            2650   \n",
       "3 2019-04-01 01:41:26            4794   \n",
       "4 2019-04-01 01:40:37           16978   \n",
       "\n",
       "                                           full_text  retweet_count  \\\n",
       "0                             @ChrisRauhl @Tesla Yes             12   \n",
       "1                                   @JONAHFORMAN Yes             31   \n",
       "2                            @carolineplz Seems fair             39   \n",
       "3  @D_A_M_B Some people use their hair to express...            312   \n",
       "4                                         .@TheOnion            369   \n",
       "\n",
       "  screen_name  created_year  \n",
       "0    elonmusk          2019  \n",
       "1    elonmusk          2019  \n",
       "2    elonmusk          2019  \n",
       "3    elonmusk          2019  \n",
       "4    elonmusk          2019  "
      ]
     },
     "execution_count": 21,
     "metadata": {},
     "output_type": "execute_result"
    }
   ],
   "source": [
    "elon_tweet.head()"
   ]
  },
  {
   "cell_type": "code",
   "execution_count": 22,
   "metadata": {
    "collapsed": true
   },
   "outputs": [],
   "source": [
    "elon_tweet['created_month']=elon_tweet['created_at'].dt.month"
   ]
  },
  {
   "cell_type": "code",
   "execution_count": 23,
   "metadata": {},
   "outputs": [
    {
     "data": {
      "text/plain": [
       "(12, array([ 4,  3,  2,  1, 12, 11, 10,  9,  8,  7,  6,  5]))"
      ]
     },
     "execution_count": 23,
     "metadata": {},
     "output_type": "execute_result"
    }
   ],
   "source": [
    "elon_tweet['created_month'].nunique(),elon_tweet['created_month'].unique()"
   ]
  },
  {
   "cell_type": "code",
   "execution_count": 24,
   "metadata": {
    "collapsed": true
   },
   "outputs": [],
   "source": [
    "elon_tweet['created_dayofweek']=elon_tweet['created_at'].dt.dayofweek"
   ]
  },
  {
   "cell_type": "code",
   "execution_count": 29,
   "metadata": {
    "collapsed": true
   },
   "outputs": [],
   "source": [
    "elon_tweet['created_day_name']=elon_tweet['created_at'].dt.weekday_name"
   ]
  },
  {
   "cell_type": "code",
   "execution_count": 30,
   "metadata": {},
   "outputs": [
    {
     "data": {
      "text/plain": [
       "(7, array([0, 6, 5, 4, 3, 2, 1]))"
      ]
     },
     "execution_count": 30,
     "metadata": {},
     "output_type": "execute_result"
    }
   ],
   "source": [
    "elon_tweet['created_dayofweek'].nunique(),elon_tweet['created_dayofweek'].unique()"
   ]
  },
  {
   "cell_type": "code",
   "execution_count": 32,
   "metadata": {},
   "outputs": [
    {
     "data": {
      "text/plain": [
       "<matplotlib.axes._subplots.AxesSubplot at 0x1a262ef908>"
      ]
     },
     "execution_count": 32,
     "metadata": {},
     "output_type": "execute_result"
    },
    {
     "data": {
      "image/png": "[encoded data removed]",
      "text/plain": [
       "<Figure size 432x288 with 1 Axes>"
      ]
     },
     "metadata": {},
     "output_type": "display_data"
    }
   ],
   "source": [
    "elon_tweet['created_dayofweek'].hist(bins=24)"
   ]
  },
  {
   "cell_type": "markdown",
   "metadata": {},
   "source": [
    "**Looks like Elon Musk's frequency of tweeting increases as weekend approaches :)\n",
    "\n",
    "**He tweets maximum on Fridays and Saturdays .. for obvious reasons, off-office hours\n",
    "\n",
    "**Sunday he relaxes a bit :)"
   ]
  },
  {
   "cell_type": "code",
   "execution_count": 33,
   "metadata": {
    "collapsed": true
   },
   "outputs": [],
   "source": [
    "elon_tweet['created_date']=elon_tweet['created_at'].dt.date"
   ]
  },
  {
   "cell_type": "code",
   "execution_count": 34,
   "metadata": {},
   "outputs": [
    {
     "data": {
      "text/plain": [
       "(datetime.date(2018, 2, 21), datetime.date(2019, 4, 1))"
      ]
     },
     "execution_count": 34,
     "metadata": {},
     "output_type": "execute_result"
    }
   ],
   "source": [
    "min(elon_tweet['created_date']),max(elon_tweet['created_date'])"
   ]
  },
  {
   "cell_type": "code",
   "execution_count": 35,
   "metadata": {},
   "outputs": [
    {
     "data": {
      "image/png": "[encoded data removed]",
      "text/plain": [
       "<Figure size 720x576 with 1 Axes>"
      ]
     },
     "metadata": {},
     "output_type": "display_data"
    }
   ],
   "source": [
    "ax = plt.figure(figsize=(10,8))\n",
    "plot = sns.countplot(x=elon_tweet.created_month,data=elon_tweet)"
   ]
  },
  {
   "cell_type": "markdown",
   "metadata": {},
   "source": [
    "**And he is most active during the months of Mar, May and June"
   ]
  },
  {
   "cell_type": "code",
   "execution_count": 36,
   "metadata": {
    "collapsed": true
   },
   "outputs": [],
   "source": [
    "elon_tweet['created_time']=elon_tweet['created_at'].dt.hour"
   ]
  },
  {
   "cell_type": "code",
   "execution_count": 37,
   "metadata": {},
   "outputs": [
    {
     "data": {
      "text/plain": [
       "<matplotlib.axes._subplots.AxesSubplot at 0x1a2648a5c0>"
      ]
     },
     "execution_count": 37,
     "metadata": {},
     "output_type": "execute_result"
    },
    {
     "data": {
      "image/png": "[encoded data removed]",
      "text/plain": [
       "<Figure size 432x288 with 1 Axes>"
      ]
     },
     "metadata": {},
     "output_type": "display_data"
    }
   ],
   "source": [
    "elon_tweet['created_time'].hist(bins=24)"
   ]
  },
  {
   "cell_type": "markdown",
   "metadata": {},
   "source": [
    "***The most number of tweets he makes are between 5 Pm and 8 PM, i.e. after leaving office and Supper\n",
    "\n",
    "***The least number of tweets comes between lunch hours which is expected"
   ]
  },
  {
   "cell_type": "markdown",
   "metadata": {},
   "source": [
    "# Generating a new feature called Virality which tells us how viral was the tweet"
   ]
  },
  {
   "cell_type": "code",
   "execution_count": 38,
   "metadata": {
    "collapsed": true
   },
   "outputs": [],
   "source": [
    "\n",
    "elon_tweet['virality'] = elon_tweet['favorite_count'] + 10 * elon_tweet['retweet_count'] "
   ]
  },
  {
   "cell_type": "code",
   "execution_count": 39,
   "metadata": {},
   "outputs": [
    {
     "data": {
      "text/html": [
       "<div>\n",
       "<style>\n",
       "    .dataframe thead tr:only-child th {\n",
       "        text-align: right;\n",
       "    }\n",
       "\n",
       "    .dataframe thead th {\n",
       "        text-align: left;\n",
       "    }\n",
       "\n",
       "    .dataframe tbody tr th {\n",
       "        vertical-align: top;\n",
       "    }\n",
       "</style>\n",
       "<table border=\"1\" class=\"dataframe\">\n",
       "  <thead>\n",
       "    <tr style=\"text-align: right;\">\n",
       "      <th></th>\n",
       "      <th>created_at</th>\n",
       "      <th>favorite_count</th>\n",
       "      <th>full_text</th>\n",
       "      <th>retweet_count</th>\n",
       "      <th>screen_name</th>\n",
       "      <th>created_year</th>\n",
       "      <th>created_month</th>\n",
       "      <th>created_dayofweek</th>\n",
       "      <th>created_day_name</th>\n",
       "      <th>created_date</th>\n",
       "      <th>created_time</th>\n",
       "      <th>virality</th>\n",
       "    </tr>\n",
       "  </thead>\n",
       "  <tbody>\n",
       "    <tr>\n",
       "      <th>0</th>\n",
       "      <td>2019-04-01 03:54:10</td>\n",
       "      <td>484</td>\n",
       "      <td>@ChrisRauhl @Tesla Yes</td>\n",
       "      <td>12</td>\n",
       "      <td>elonmusk</td>\n",
       "      <td>2019</td>\n",
       "      <td>4</td>\n",
       "      <td>0</td>\n",
       "      <td>Monday</td>\n",
       "      <td>2019-04-01</td>\n",
       "      <td>3</td>\n",
       "      <td>604</td>\n",
       "    </tr>\n",
       "    <tr>\n",
       "      <th>1</th>\n",
       "      <td>2019-04-01 03:24:23</td>\n",
       "      <td>699</td>\n",
       "      <td>@JONAHFORMAN Yes</td>\n",
       "      <td>31</td>\n",
       "      <td>elonmusk</td>\n",
       "      <td>2019</td>\n",
       "      <td>4</td>\n",
       "      <td>0</td>\n",
       "      <td>Monday</td>\n",
       "      <td>2019-04-01</td>\n",
       "      <td>3</td>\n",
       "      <td>1009</td>\n",
       "    </tr>\n",
       "    <tr>\n",
       "      <th>2</th>\n",
       "      <td>2019-04-01 02:21:37</td>\n",
       "      <td>2650</td>\n",
       "      <td>@carolineplz Seems fair</td>\n",
       "      <td>39</td>\n",
       "      <td>elonmusk</td>\n",
       "      <td>2019</td>\n",
       "      <td>4</td>\n",
       "      <td>0</td>\n",
       "      <td>Monday</td>\n",
       "      <td>2019-04-01</td>\n",
       "      <td>2</td>\n",
       "      <td>3040</td>\n",
       "    </tr>\n",
       "    <tr>\n",
       "      <th>3</th>\n",
       "      <td>2019-04-01 01:41:26</td>\n",
       "      <td>4794</td>\n",
       "      <td>@D_A_M_B Some people use their hair to express...</td>\n",
       "      <td>312</td>\n",
       "      <td>elonmusk</td>\n",
       "      <td>2019</td>\n",
       "      <td>4</td>\n",
       "      <td>0</td>\n",
       "      <td>Monday</td>\n",
       "      <td>2019-04-01</td>\n",
       "      <td>1</td>\n",
       "      <td>7914</td>\n",
       "    </tr>\n",
       "    <tr>\n",
       "      <th>4</th>\n",
       "      <td>2019-04-01 01:40:37</td>\n",
       "      <td>16978</td>\n",
       "      <td>.@TheOnion</td>\n",
       "      <td>369</td>\n",
       "      <td>elonmusk</td>\n",
       "      <td>2019</td>\n",
       "      <td>4</td>\n",
       "      <td>0</td>\n",
       "      <td>Monday</td>\n",
       "      <td>2019-04-01</td>\n",
       "      <td>1</td>\n",
       "      <td>20668</td>\n",
       "    </tr>\n",
       "  </tbody>\n",
       "</table>\n",
       "</div>"
      ],
      "text/plain": [
       "           created_at  favorite_count  \\\n",
       "0 2019-04-01 03:54:10             484   \n",
       "1 2019-04-01 03:24:23             699   \n",
       "2 2019-04-01 02:21:37            2650   \n",
       "3 2019-04-01 01:41:26            4794   \n",
       "4 2019-04-01 01:40:37           16978   \n",
       "\n",
       "                                           full_text  retweet_count  \\\n",
       "0                             @ChrisRauhl @Tesla Yes             12   \n",
       "1                                   @JONAHFORMAN Yes             31   \n",
       "2                            @carolineplz Seems fair             39   \n",
       "3  @D_A_M_B Some people use their hair to express...            312   \n",
       "4                                         .@TheOnion            369   \n",
       "\n",
       "  screen_name  created_year  created_month  created_dayofweek  \\\n",
       "0    elonmusk          2019              4                  0   \n",
       "1    elonmusk          2019              4                  0   \n",
       "2    elonmusk          2019              4                  0   \n",
       "3    elonmusk          2019              4                  0   \n",
       "4    elonmusk          2019              4                  0   \n",
       "\n",
       "  created_day_name created_date  created_time  virality  \n",
       "0           Monday   2019-04-01             3       604  \n",
       "1           Monday   2019-04-01             3      1009  \n",
       "2           Monday   2019-04-01             2      3040  \n",
       "3           Monday   2019-04-01             1      7914  \n",
       "4           Monday   2019-04-01             1     20668  "
      ]
     },
     "execution_count": 39,
     "metadata": {},
     "output_type": "execute_result"
    }
   ],
   "source": [
    "elon_tweet.head()"
   ]
  },
  {
   "cell_type": "code",
   "execution_count": 40,
   "metadata": {},
   "outputs": [
    {
     "data": {
      "text/plain": [
       "array(['Had to been done ur welcome https://t.co/7jT0f9lqIS',\n",
       "       'There are no coincidences https://t.co/9AEbbuXZGn',\n",
       "       'Host meme review? https://t.co/k2SFtIUh1k', 'i🖤anime',\n",
       "       'Yeah, I lift a little … https://t.co/UAJdv8qSw1',\n",
       "       'Oh btw I’m building a cyborg dragon',\n",
       "       'RT @NASA: Remembering Stephen Hawking, a renowned physicist and ambassador of science. His theories unlocked a universe of possibilities th…',\n",
       "       'Rest in peace, Stan Lee. The many worlds of imagination &amp; delight you created for humanity will last forever.',\n",
       "       'How’d they know!? https://t.co/AZh4EOrgmc',\n",
       "       '😅 thank goodness it’s not November https://t.co/ius8kAptiC'],\n",
       "      dtype=object)"
      ]
     },
     "execution_count": 40,
     "metadata": {},
     "output_type": "execute_result"
    }
   ],
   "source": [
    "elon_tweet.sort_values(by = 'virality',axis=0,ascending=False).head(10).full_text.values"
   ]
  },
  {
   "cell_type": "markdown",
   "metadata": {},
   "source": [
    "***Which tweets went viral --\n",
    "1. The ones which had some links in it\n",
    "2. He expressed his love to something, i guess that animation \n",
    "3. He mentioned his upcoming project\n",
    "4. He vent out emotions "
   ]
  },
  {
   "cell_type": "code",
   "execution_count": 41,
   "metadata": {},
   "outputs": [
    {
     "data": {
      "text/html": [
       "<div>\n",
       "<style>\n",
       "    .dataframe thead tr:only-child th {\n",
       "        text-align: right;\n",
       "    }\n",
       "\n",
       "    .dataframe thead th {\n",
       "        text-align: left;\n",
       "    }\n",
       "\n",
       "    .dataframe tbody tr th {\n",
       "        vertical-align: top;\n",
       "    }\n",
       "</style>\n",
       "<table border=\"1\" class=\"dataframe\">\n",
       "  <thead>\n",
       "    <tr style=\"text-align: right;\">\n",
       "      <th></th>\n",
       "      <th>created_at</th>\n",
       "      <th>favorite_count</th>\n",
       "      <th>full_text</th>\n",
       "      <th>retweet_count</th>\n",
       "      <th>screen_name</th>\n",
       "      <th>created_year</th>\n",
       "      <th>created_month</th>\n",
       "      <th>created_dayofweek</th>\n",
       "      <th>created_day_name</th>\n",
       "      <th>created_date</th>\n",
       "      <th>created_time</th>\n",
       "      <th>virality</th>\n",
       "    </tr>\n",
       "  </thead>\n",
       "  <tbody>\n",
       "    <tr>\n",
       "      <th>29</th>\n",
       "      <td>2019-03-30 06:21:30</td>\n",
       "      <td>57207</td>\n",
       "      <td>Lame</td>\n",
       "      <td>4888</td>\n",
       "      <td>elonmusk</td>\n",
       "      <td>2019</td>\n",
       "      <td>3</td>\n",
       "      <td>5</td>\n",
       "      <td>Saturday</td>\n",
       "      <td>2019-03-30</td>\n",
       "      <td>6</td>\n",
       "      <td>106087</td>\n",
       "    </tr>\n",
       "    <tr>\n",
       "      <th>30</th>\n",
       "      <td>2019-03-30 06:02:00</td>\n",
       "      <td>188955</td>\n",
       "      <td>🦆</td>\n",
       "      <td>24924</td>\n",
       "      <td>elonmusk</td>\n",
       "      <td>2019</td>\n",
       "      <td>3</td>\n",
       "      <td>5</td>\n",
       "      <td>Saturday</td>\n",
       "      <td>2019-03-30</td>\n",
       "      <td>6</td>\n",
       "      <td>438195</td>\n",
       "    </tr>\n",
       "    <tr>\n",
       "      <th>739</th>\n",
       "      <td>2019-01-04 19:47:50</td>\n",
       "      <td>151415</td>\n",
       "      <td>…</td>\n",
       "      <td>22096</td>\n",
       "      <td>elonmusk</td>\n",
       "      <td>2019</td>\n",
       "      <td>1</td>\n",
       "      <td>4</td>\n",
       "      <td>Friday</td>\n",
       "      <td>2019-01-04</td>\n",
       "      <td>19</td>\n",
       "      <td>372375</td>\n",
       "    </tr>\n",
       "    <tr>\n",
       "      <th>764</th>\n",
       "      <td>2019-01-01 00:20:48</td>\n",
       "      <td>179968</td>\n",
       "      <td>Haha</td>\n",
       "      <td>33047</td>\n",
       "      <td>elonmusk</td>\n",
       "      <td>2019</td>\n",
       "      <td>1</td>\n",
       "      <td>1</td>\n",
       "      <td>Tuesday</td>\n",
       "      <td>2019-01-01</td>\n",
       "      <td>0</td>\n",
       "      <td>510438</td>\n",
       "    </tr>\n",
       "    <tr>\n",
       "      <th>1319</th>\n",
       "      <td>2018-10-25 23:21:00</td>\n",
       "      <td>63429</td>\n",
       "      <td>Time</td>\n",
       "      <td>6824</td>\n",
       "      <td>elonmusk</td>\n",
       "      <td>2018</td>\n",
       "      <td>10</td>\n",
       "      <td>3</td>\n",
       "      <td>Thursday</td>\n",
       "      <td>2018-10-25</td>\n",
       "      <td>23</td>\n",
       "      <td>131669</td>\n",
       "    </tr>\n",
       "    <tr>\n",
       "      <th>1764</th>\n",
       "      <td>2018-08-11 03:50:56</td>\n",
       "      <td>35894</td>\n",
       "      <td>S3XY</td>\n",
       "      <td>8143</td>\n",
       "      <td>elonmusk</td>\n",
       "      <td>2018</td>\n",
       "      <td>8</td>\n",
       "      <td>5</td>\n",
       "      <td>Saturday</td>\n",
       "      <td>2018-08-11</td>\n",
       "      <td>3</td>\n",
       "      <td>117324</td>\n",
       "    </tr>\n",
       "    <tr>\n",
       "      <th>1867</th>\n",
       "      <td>2018-07-29 21:04:01</td>\n",
       "      <td>18912</td>\n",
       "      <td>0</td>\n",
       "      <td>1669</td>\n",
       "      <td>elonmusk</td>\n",
       "      <td>2018</td>\n",
       "      <td>7</td>\n",
       "      <td>6</td>\n",
       "      <td>Sunday</td>\n",
       "      <td>2018-07-29</td>\n",
       "      <td>21</td>\n",
       "      <td>35602</td>\n",
       "    </tr>\n",
       "    <tr>\n",
       "      <th>2846</th>\n",
       "      <td>2018-05-18 07:05:53</td>\n",
       "      <td>47426</td>\n",
       "      <td>🐌</td>\n",
       "      <td>7282</td>\n",
       "      <td>elonmusk</td>\n",
       "      <td>2018</td>\n",
       "      <td>5</td>\n",
       "      <td>4</td>\n",
       "      <td>Friday</td>\n",
       "      <td>2018-05-18</td>\n",
       "      <td>7</td>\n",
       "      <td>120246</td>\n",
       "    </tr>\n",
       "  </tbody>\n",
       "</table>\n",
       "</div>"
      ],
      "text/plain": [
       "              created_at  favorite_count full_text  retweet_count screen_name  \\\n",
       "29   2019-03-30 06:21:30           57207      Lame           4888    elonmusk   \n",
       "30   2019-03-30 06:02:00          188955         🦆          24924    elonmusk   \n",
       "739  2019-01-04 19:47:50          151415         …          22096    elonmusk   \n",
       "764  2019-01-01 00:20:48          179968      Haha          33047    elonmusk   \n",
       "1319 2018-10-25 23:21:00           63429      Time           6824    elonmusk   \n",
       "1764 2018-08-11 03:50:56           35894      S3XY           8143    elonmusk   \n",
       "1867 2018-07-29 21:04:01           18912         0           1669    elonmusk   \n",
       "2846 2018-05-18 07:05:53           47426         🐌           7282    elonmusk   \n",
       "\n",
       "      created_year  created_month  created_dayofweek created_day_name  \\\n",
       "29            2019              3                  5         Saturday   \n",
       "30            2019              3                  5         Saturday   \n",
       "739           2019              1                  4           Friday   \n",
       "764           2019              1                  1          Tuesday   \n",
       "1319          2018             10                  3         Thursday   \n",
       "1764          2018              8                  5         Saturday   \n",
       "1867          2018              7                  6           Sunday   \n",
       "2846          2018              5                  4           Friday   \n",
       "\n",
       "     created_date  created_time  virality  \n",
       "29     2019-03-30             6    106087  \n",
       "30     2019-03-30             6    438195  \n",
       "739    2019-01-04            19    372375  \n",
       "764    2019-01-01             0    510438  \n",
       "1319   2018-10-25            23    131669  \n",
       "1764   2018-08-11             3    117324  \n",
       "1867   2018-07-29            21     35602  \n",
       "2846   2018-05-18             7    120246  "
      ]
     },
     "execution_count": 41,
     "metadata": {},
     "output_type": "execute_result"
    }
   ],
   "source": [
    "elon_tweet.loc[elon_tweet['full_text'].str.len() < 5]"
   ]
  },
  {
   "cell_type": "markdown",
   "metadata": {},
   "source": [
    "# Cleaning up tweets\n",
    "1. Bringing the text to lowercase\n",
    "2. Removing new line character '\\n'\n",
    "3. Removing the http\n",
    "4. Removing the special character like @\n",
    "5. Removing stop words\n",
    "6. Removing the words with length < 3\n",
    "7. Removing the &amp text"
   ]
  },
  {
   "cell_type": "code",
   "execution_count": 42,
   "metadata": {
    "collapsed": true
   },
   "outputs": [],
   "source": [
    "elon_tweet['clean_text'] = elon_tweet['full_text']"
   ]
  },
  {
   "cell_type": "code",
   "execution_count": 43,
   "metadata": {},
   "outputs": [],
   "source": [
    "####1. Bringing the text to lowercase\n",
    "elon_tweet['clean_text'] = elon_tweet['clean_text'].str.lower()"
   ]
  },
  {
   "cell_type": "code",
   "execution_count": 44,
   "metadata": {},
   "outputs": [
    {
     "data": {
      "text/html": [
       "<div>\n",
       "<style>\n",
       "    .dataframe thead tr:only-child th {\n",
       "        text-align: right;\n",
       "    }\n",
       "\n",
       "    .dataframe thead th {\n",
       "        text-align: left;\n",
       "    }\n",
       "\n",
       "    .dataframe tbody tr th {\n",
       "        vertical-align: top;\n",
       "    }\n",
       "</style>\n",
       "<table border=\"1\" class=\"dataframe\">\n",
       "  <thead>\n",
       "    <tr style=\"text-align: right;\">\n",
       "      <th></th>\n",
       "      <th>created_at</th>\n",
       "      <th>favorite_count</th>\n",
       "      <th>full_text</th>\n",
       "      <th>retweet_count</th>\n",
       "      <th>screen_name</th>\n",
       "      <th>created_year</th>\n",
       "      <th>created_month</th>\n",
       "      <th>created_dayofweek</th>\n",
       "      <th>created_day_name</th>\n",
       "      <th>created_date</th>\n",
       "      <th>created_time</th>\n",
       "      <th>virality</th>\n",
       "      <th>clean_text</th>\n",
       "    </tr>\n",
       "  </thead>\n",
       "  <tbody>\n",
       "    <tr>\n",
       "      <th>2632</th>\n",
       "      <td>2018-05-27 01:00:33</td>\n",
       "      <td>9124</td>\n",
       "      <td>😃\\nhttps://t.co/9kUYHCCaRN</td>\n",
       "      <td>778</td>\n",
       "      <td>elonmusk</td>\n",
       "      <td>2018</td>\n",
       "      <td>5</td>\n",
       "      <td>6</td>\n",
       "      <td>Sunday</td>\n",
       "      <td>2018-05-27</td>\n",
       "      <td>1</td>\n",
       "      <td>16904</td>\n",
       "      <td>😃\\nhttps://t.co/9kuyhccarn</td>\n",
       "    </tr>\n",
       "  </tbody>\n",
       "</table>\n",
       "</div>"
      ],
      "text/plain": [
       "              created_at  favorite_count                   full_text  \\\n",
       "2632 2018-05-27 01:00:33            9124  😃\\nhttps://t.co/9kUYHCCaRN   \n",
       "\n",
       "      retweet_count screen_name  created_year  created_month  \\\n",
       "2632            778    elonmusk          2018              5   \n",
       "\n",
       "      created_dayofweek created_day_name created_date  created_time  virality  \\\n",
       "2632                  6           Sunday   2018-05-27             1     16904   \n",
       "\n",
       "                      clean_text  \n",
       "2632  😃\\nhttps://t.co/9kuyhccarn  "
      ]
     },
     "execution_count": 44,
     "metadata": {},
     "output_type": "execute_result"
    }
   ],
   "source": [
    "##2. Removing new line character '\\n'\n",
    "elon_tweet.loc[elon_tweet['clean_text'].str.match('.\\n')]"
   ]
  },
  {
   "cell_type": "code",
   "execution_count": 45,
   "metadata": {},
   "outputs": [],
   "source": [
    "elon_tweet['clean_text'] = elon_tweet['clean_text'].str.replace('\\n',' ')"
   ]
  },
  {
   "cell_type": "code",
   "execution_count": 46,
   "metadata": {},
   "outputs": [
    {
     "data": {
      "text/html": [
       "<div>\n",
       "<style>\n",
       "    .dataframe thead tr:only-child th {\n",
       "        text-align: right;\n",
       "    }\n",
       "\n",
       "    .dataframe thead th {\n",
       "        text-align: left;\n",
       "    }\n",
       "\n",
       "    .dataframe tbody tr th {\n",
       "        vertical-align: top;\n",
       "    }\n",
       "</style>\n",
       "<table border=\"1\" class=\"dataframe\">\n",
       "  <thead>\n",
       "    <tr style=\"text-align: right;\">\n",
       "      <th></th>\n",
       "      <th>created_at</th>\n",
       "      <th>favorite_count</th>\n",
       "      <th>full_text</th>\n",
       "      <th>retweet_count</th>\n",
       "      <th>screen_name</th>\n",
       "      <th>created_year</th>\n",
       "      <th>created_month</th>\n",
       "      <th>created_dayofweek</th>\n",
       "      <th>created_day_name</th>\n",
       "      <th>created_date</th>\n",
       "      <th>created_time</th>\n",
       "      <th>virality</th>\n",
       "      <th>clean_text</th>\n",
       "    </tr>\n",
       "  </thead>\n",
       "  <tbody>\n",
       "  </tbody>\n",
       "</table>\n",
       "</div>"
      ],
      "text/plain": [
       "Empty DataFrame\n",
       "Columns: [created_at, favorite_count, full_text, retweet_count, screen_name, created_year, created_month, created_dayofweek, created_day_name, created_date, created_time, virality, clean_text]\n",
       "Index: []"
      ]
     },
     "execution_count": 46,
     "metadata": {},
     "output_type": "execute_result"
    }
   ],
   "source": [
    "elon_tweet.loc[elon_tweet['clean_text'].str.match('.\\n')]"
   ]
  },
  {
   "cell_type": "code",
   "execution_count": 47,
   "metadata": {},
   "outputs": [],
   "source": [
    "##5. Removing stop words\n",
    "elon_tweet['clean_text'] = elon_tweet['clean_text'].apply(lambda x : ' '.join([word for word in x.split() if word not in stop_words]))"
   ]
  },
  {
   "cell_type": "code",
   "execution_count": 48,
   "metadata": {},
   "outputs": [],
   "source": [
    "##4. Removing the special character like @  3. Removing the http\n",
    "elon_tweet['clean_text'] = elon_tweet['clean_text'].apply(lambda x : ' '.join([word for word in x.split() if not re.search(r'((http)|@)+',word)]))"
   ]
  },
  {
   "cell_type": "code",
   "execution_count": 49,
   "metadata": {},
   "outputs": [
    {
     "data": {
      "text/plain": [
       "0    \n",
       "1    \n",
       "2    \n",
       "3    \n",
       "4    \n",
       "Name: clean_text, dtype: object"
      ]
     },
     "execution_count": 49,
     "metadata": {},
     "output_type": "execute_result"
    }
   ],
   "source": [
    "elon_tweet['clean_text'].apply(lambda x : ' '.join([word for word in x.split() if  re.search(r'(;)+',word)])).head(5)"
   ]
  },
  {
   "cell_type": "markdown",
   "metadata": {},
   "source": [
    "&amp doesnt seem to be of any signifigance to me. so will get rid of that"
   ]
  },
  {
   "cell_type": "code",
   "execution_count": 50,
   "metadata": {},
   "outputs": [],
   "source": [
    "##7. Removing the &amp text\n",
    "elon_tweet['clean_text'] = elon_tweet['clean_text'].apply(lambda x : ' '.join([word for word in x.split() if not re.search(r'(;)+',word)]))"
   ]
  },
  {
   "cell_type": "code",
   "execution_count": 51,
   "metadata": {},
   "outputs": [],
   "source": [
    "##5. Removing the words with length less than 3\n",
    "elon_tweet['clean_text'] = elon_tweet['clean_text'].apply(lambda x : ' '.join([word for word in x.split() if len(word) > 2 ]))"
   ]
  },
  {
   "cell_type": "code",
   "execution_count": 52,
   "metadata": {},
   "outputs": [
    {
     "data": {
      "text/html": [
       "<div>\n",
       "<style>\n",
       "    .dataframe thead tr:only-child th {\n",
       "        text-align: right;\n",
       "    }\n",
       "\n",
       "    .dataframe thead th {\n",
       "        text-align: left;\n",
       "    }\n",
       "\n",
       "    .dataframe tbody tr th {\n",
       "        vertical-align: top;\n",
       "    }\n",
       "</style>\n",
       "<table border=\"1\" class=\"dataframe\">\n",
       "  <thead>\n",
       "    <tr style=\"text-align: right;\">\n",
       "      <th></th>\n",
       "      <th>clean_text</th>\n",
       "      <th>created_date</th>\n",
       "    </tr>\n",
       "  </thead>\n",
       "  <tbody>\n",
       "    <tr>\n",
       "      <th>3205</th>\n",
       "      <td>successful deployment paz satellite low-earth ...</td>\n",
       "      <td>2018-02-22</td>\n",
       "    </tr>\n",
       "    <tr>\n",
       "      <th>3206</th>\n",
       "      <td>made back space fairing parafoil deployed. try...</td>\n",
       "      <td>2018-02-22</td>\n",
       "    </tr>\n",
       "    <tr>\n",
       "      <th>3207</th>\n",
       "      <td>going try catch giant fairing (nosecone) falco...</td>\n",
       "      <td>2018-02-22</td>\n",
       "    </tr>\n",
       "    <tr>\n",
       "      <th>3208</th>\n",
       "      <td>love drones house, you’ll really love vast num...</td>\n",
       "      <td>2018-02-22</td>\n",
       "    </tr>\n",
       "    <tr>\n",
       "      <th>3209</th>\n",
       "      <td>sure. let know, it’s still going. literally ze...</td>\n",
       "      <td>2018-02-22</td>\n",
       "    </tr>\n",
       "    <tr>\n",
       "      <th>3210</th>\n",
       "      <td>that’s random</td>\n",
       "      <td>2018-02-21</td>\n",
       "    </tr>\n",
       "    <tr>\n",
       "      <th>3211</th>\n",
       "      <td>anyone curious, name inspired fault stars</td>\n",
       "      <td>2018-02-21</td>\n",
       "    </tr>\n",
       "    <tr>\n",
       "      <th>3212</th>\n",
       "      <td>openai supporters:</td>\n",
       "      <td>2018-02-21</td>\n",
       "    </tr>\n",
       "    <tr>\n",
       "      <th>3213</th>\n",
       "      <td>high altitude wind shear data shows probable l...</td>\n",
       "      <td>2018-02-21</td>\n",
       "    </tr>\n",
       "    <tr>\n",
       "      <th>3214</th>\n",
       "      <td>today’s falcon launch carries spacex test sate...</td>\n",
       "      <td>2018-02-21</td>\n",
       "    </tr>\n",
       "  </tbody>\n",
       "</table>\n",
       "</div>"
      ],
      "text/plain": [
       "                                             clean_text created_date\n",
       "3205  successful deployment paz satellite low-earth ...   2018-02-22\n",
       "3206  made back space fairing parafoil deployed. try...   2018-02-22\n",
       "3207  going try catch giant fairing (nosecone) falco...   2018-02-22\n",
       "3208  love drones house, you’ll really love vast num...   2018-02-22\n",
       "3209  sure. let know, it’s still going. literally ze...   2018-02-22\n",
       "3210                                      that’s random   2018-02-21\n",
       "3211          anyone curious, name inspired fault stars   2018-02-21\n",
       "3212                                 openai supporters:   2018-02-21\n",
       "3213  high altitude wind shear data shows probable l...   2018-02-21\n",
       "3214  today’s falcon launch carries spacex test sate...   2018-02-21"
      ]
     },
     "execution_count": 52,
     "metadata": {},
     "output_type": "execute_result"
    }
   ],
   "source": [
    "elon_tweet[['clean_text','created_date']].tail(10)"
   ]
  },
  {
   "cell_type": "markdown",
   "metadata": {},
   "source": [
    "# Sentiment Analysis - TextBlob - Finds the Polarity of the statement"
   ]
  },
  {
   "cell_type": "code",
   "execution_count": 53,
   "metadata": {},
   "outputs": [],
   "source": [
    "##elon_tweet['clean_text'] = \n",
    "elon_tweet['SA'] = elon_tweet['clean_text'].apply(lambda x : 1 if TextBlob(x).sentiment.polarity > 0 else -1 if TextBlob(x).sentiment.polarity < 0 else 0)"
   ]
  },
  {
   "cell_type": "code",
   "execution_count": 54,
   "metadata": {},
   "outputs": [
    {
     "data": {
      "text/plain": [
       "array([ 0,  1, -1])"
      ]
     },
     "execution_count": 54,
     "metadata": {},
     "output_type": "execute_result"
    }
   ],
   "source": [
    "elon_tweet['SA'].unique()"
   ]
  },
  {
   "cell_type": "code",
   "execution_count": 55,
   "metadata": {},
   "outputs": [
    {
     "data": {
      "text/html": [
       "<div>\n",
       "<style>\n",
       "    .dataframe thead tr:only-child th {\n",
       "        text-align: right;\n",
       "    }\n",
       "\n",
       "    .dataframe thead th {\n",
       "        text-align: left;\n",
       "    }\n",
       "\n",
       "    .dataframe tbody tr th {\n",
       "        vertical-align: top;\n",
       "    }\n",
       "</style>\n",
       "<table border=\"1\" class=\"dataframe\">\n",
       "  <thead>\n",
       "    <tr style=\"text-align: right;\">\n",
       "      <th></th>\n",
       "      <th>clean_text</th>\n",
       "      <th>SA</th>\n",
       "    </tr>\n",
       "  </thead>\n",
       "  <tbody>\n",
       "    <tr>\n",
       "      <th>0</th>\n",
       "      <td>yes</td>\n",
       "      <td>0</td>\n",
       "    </tr>\n",
       "    <tr>\n",
       "      <th>1</th>\n",
       "      <td>yes</td>\n",
       "      <td>0</td>\n",
       "    </tr>\n",
       "    <tr>\n",
       "      <th>2</th>\n",
       "      <td>seems fair</td>\n",
       "      <td>1</td>\n",
       "    </tr>\n",
       "    <tr>\n",
       "      <th>3</th>\n",
       "      <td>people use hair express themselves, use twitter</td>\n",
       "      <td>0</td>\n",
       "    </tr>\n",
       "    <tr>\n",
       "      <th>4</th>\n",
       "      <td></td>\n",
       "      <td>0</td>\n",
       "    </tr>\n",
       "  </tbody>\n",
       "</table>\n",
       "</div>"
      ],
      "text/plain": [
       "                                        clean_text  SA\n",
       "0                                              yes   0\n",
       "1                                              yes   0\n",
       "2                                       seems fair   1\n",
       "3  people use hair express themselves, use twitter   0\n",
       "4                                                    0"
      ]
     },
     "execution_count": 55,
     "metadata": {},
     "output_type": "execute_result"
    }
   ],
   "source": [
    "elon_tweet[['clean_text','SA']].head()"
   ]
  },
  {
   "cell_type": "code",
   "execution_count": 56,
   "metadata": {},
   "outputs": [
    {
     "data": {
      "text/html": [
       "<div>\n",
       "<style>\n",
       "    .dataframe thead tr:only-child th {\n",
       "        text-align: right;\n",
       "    }\n",
       "\n",
       "    .dataframe thead th {\n",
       "        text-align: left;\n",
       "    }\n",
       "\n",
       "    .dataframe tbody tr th {\n",
       "        vertical-align: top;\n",
       "    }\n",
       "</style>\n",
       "<table border=\"1\" class=\"dataframe\">\n",
       "  <thead>\n",
       "    <tr style=\"text-align: right;\">\n",
       "      <th></th>\n",
       "      <th>clean_text</th>\n",
       "    </tr>\n",
       "    <tr>\n",
       "      <th>SA</th>\n",
       "      <th></th>\n",
       "    </tr>\n",
       "  </thead>\n",
       "  <tbody>\n",
       "    <tr>\n",
       "      <th>-1</th>\n",
       "      <td>408</td>\n",
       "    </tr>\n",
       "    <tr>\n",
       "      <th>0</th>\n",
       "      <td>1360</td>\n",
       "    </tr>\n",
       "    <tr>\n",
       "      <th>1</th>\n",
       "      <td>1447</td>\n",
       "    </tr>\n",
       "  </tbody>\n",
       "</table>\n",
       "</div>"
      ],
      "text/plain": [
       "    clean_text\n",
       "SA            \n",
       "-1         408\n",
       " 0        1360\n",
       " 1        1447"
      ]
     },
     "execution_count": 56,
     "metadata": {},
     "output_type": "execute_result"
    }
   ],
   "source": [
    "elon_tweet[['clean_text','SA']].groupby(by = 'SA').count()"
   ]
  },
  {
   "cell_type": "code",
   "execution_count": 57,
   "metadata": {
    "collapsed": true
   },
   "outputs": [],
   "source": [
    "pos_tweet = elon_tweet.loc[elon_tweet.SA == 1]\n",
    "neu_tweet = elon_tweet.loc[elon_tweet.SA == 0]\n",
    "neg_tweet = elon_tweet.loc[elon_tweet.SA == -1]"
   ]
  },
  {
   "cell_type": "code",
   "execution_count": 58,
   "metadata": {},
   "outputs": [
    {
     "name": "stdout",
     "output_type": "stream",
     "text": [
      "Positive tweets % : 45.01\n",
      "Neutral tweets % : 42.30%\n",
      "Negative tweets % : 12.69%\n"
     ]
    }
   ],
   "source": [
    "print('Positive tweets % : {0:.2f}'.format(len(pos_tweet) * 100 /len(elon_tweet)))\n",
    "print('Neutral tweets % : {0:.2f}%'.format(len(neu_tweet) * 100 /len(elon_tweet)))\n",
    "print('Negative tweets % : {0:.2f}%'.format(len(neg_tweet) * 100 /len(elon_tweet)))"
   ]
  },
  {
   "cell_type": "code",
   "execution_count": 80,
   "metadata": {},
   "outputs": [
    {
     "data": {
      "text/plain": [
       "<matplotlib.axes._subplots.AxesSubplot at 0x1a21382f28>"
      ]
     },
     "execution_count": 80,
     "metadata": {},
     "output_type": "execute_result"
    },
    {
     "data": {
      "image/png": "[encoded data removed]",
      "text/plain": [
       "<Figure size 1008x864 with 4 Axes>"
      ]
     },
     "metadata": {},
     "output_type": "display_data"
    }
   ],
   "source": [
    "_,ax = plt.subplots(2,2,figsize=(14,12))\n",
    "sns.barplot(x='created_day_name',y='retweet_count',hue='SA',data=elon_tweet,ax=ax[0,0],palette='spring')\n",
    "sns.barplot(x='created_month',y='retweet_count',hue='SA',data=elon_tweet,ax=ax[0,1],palette='deep')\n",
    "sns.pointplot(x='created_time',y='virality',hue='SA',data=elon_tweet,ax=ax[1,0],palette='bright')\n",
    "sns.barplot(x='created_year',y='virality',hue='SA',data=elon_tweet,ax=ax[1,1],palette='muted')\n"
   ]
  },
  {
   "cell_type": "markdown",
   "metadata": {},
   "source": [
    "# **Insights\n",
    "1. Elon tweets maximum num of positive tweets on a friday, thats obvious , approaching weekend.\n",
    "2. He tweets maximum negative comments on Wed. Thats middle of week. Understandable\n",
    "3. The maximum retweet happened in the month of Jan and Oct. Well new year new strategies and Oct, about to close.\n",
    "4. The most viral negative tweets happened at 9 AM.\n",
    "5. The most viral positive tweets happened at 9 PM.\n",
    "6. He tweeted more in 2019 than in 2018. This year he was more diplomatic in his comments and hence the highest percentage of his tweets were neutral in nature. :) Second highest being negative comments."
   ]
  },
  {
   "cell_type": "code",
   "execution_count": 114,
   "metadata": {},
   "outputs": [
    {
     "data": {
      "text/plain": [
       "<seaborn.axisgrid.FacetGrid at 0x1a2d0834a8>"
      ]
     },
     "execution_count": 114,
     "metadata": {},
     "output_type": "execute_result"
    },
    {
     "data": {
      "image/png": "[encoded data removed]",
      "text/plain": [
       "<Figure size 440x2592 with 24 Axes>"
      ]
     },
     "metadata": {},
     "output_type": "display_data"
    }
   ],
   "source": [
    "bar = sns.FacetGrid(elon_tweet,row='created_month',col = 'created_year')\n",
    "bar.map(sns.pointplot,'SA','favorite_count')\n",
    "bar.add_legend()"
   ]
  },
  {
   "cell_type": "code",
   "execution_count": null,
   "metadata": {},
   "outputs": [],
   "source": []
  },
  {
   "cell_type": "code",
   "execution_count": null,
   "metadata": {
    "collapsed": true
   },
   "outputs": [],
   "source": [
    "## Indicoio API Key ->  1afab6f1942c6a8050ea3156dc95eb79"
   ]
  }
 ],
 "metadata": {
  "kernelspec": {
   "display_name": "Python 3",
   "language": "python",
   "name": "python3"
  },
  "language_info": {
   "codemirror_mode": {
    "name": "ipython",
    "version": 3
   },
   "file_extension": ".py",
   "mimetype": "text/x-python",
   "name": "python",
   "nbconvert_exporter": "python",
   "pygments_lexer": "ipython3",
   "version": "3.6.8"
  }
 },
 "nbformat": 4,
 "nbformat_minor": 2
}
